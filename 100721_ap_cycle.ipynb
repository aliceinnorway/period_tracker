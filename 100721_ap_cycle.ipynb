{
 "cells": [
  {
   "cell_type": "markdown",
   "metadata": {},
   "source": [
    "# Class Cycle\n",
    "\n",
    "This class takes a list of dates defined 'Period_start', 'Period_end', and 'Cycle_end' and calculates the following:\n",
    "    - Period length\n",
    "    - Cycle length\n",
    "    - Average period length\n",
    "    - Average cycle length\n",
    "It will hopefully also predict future periods and cycles. "
   ]
  },
  {
   "cell_type": "markdown",
   "metadata": {},
   "source": [
    "### Import Libraries"
   ]
  },
  {
   "cell_type": "code",
   "execution_count": 53,
   "metadata": {},
   "outputs": [
    {
     "name": "stdout",
     "output_type": "stream",
     "text": [
      "10.07.2021\n"
     ]
    }
   ],
   "source": [
    "import datetime\n",
    "from datetime import timedelta\n",
    "import statistics\n",
    "\n",
    "# Testing datetime\n",
    "today = datetime.datetime.now()\n",
    "print(today.strftime(\"%d.%m.%Y\"))"
   ]
  },
  {
   "cell_type": "markdown",
   "metadata": {},
   "source": [
    "### Class Cycle\n",
    "Each instance is an individual cycle (defined by the start of a period)"
   ]
  },
  {
   "cell_type": "code",
   "execution_count": 54,
   "metadata": {},
   "outputs": [],
   "source": [
    "class Cycle():\n",
    "    def __init__(self, period_start, period_end=None, cycle_end=None):\n",
    "        self.period_start = period_start\n",
    "        self.period_end = period_end\n",
    "        self.cycle_end = cycle_end\n",
    "        \n",
    "        # These attribute describes the phase in which the cycle is in. They are determined from methods written below.\n",
    "        # These attributes return either True or False.\n",
    "        self.cycle_complete = self.is_finished_cycle()\n",
    "        self.period_complete = self.is_finished_period()\n",
    "        \n",
    "        # These attributes show the length of the period and cycle if complete.\n",
    "        # These attributes will return a number in datetime.days\n",
    "        self.period_length = self.cal_period_length()\n",
    "        self.cycle_length = self.cal_cycle_length()\n",
    "    \n",
    "    def is_finished_cycle(self):\n",
    "        '''\n",
    "        \n",
    "        This method determines if the cycle is finished and sets the instance attribute to the returned value.\n",
    "        \n",
    "        '''\n",
    "        if self.cycle_end:\n",
    "            return True \n",
    "        else:\n",
    "            return False\n",
    "    \n",
    "    def is_finished_period(self):\n",
    "        '''\n",
    "        \n",
    "        This method determines if the period is finished and sets the instance attribute to the returned value.\n",
    "        \n",
    "        '''\n",
    "        if self.period_end:\n",
    "            return True\n",
    "        else:\n",
    "            return False\n",
    "    \n",
    "    def cal_period_length(self):\n",
    "        '''\n",
    "        \n",
    "        This method determines the length of a completed period. \n",
    "        \n",
    "        '''\n",
    "        if self.period_complete:\n",
    "            return (self.period_end - self.period_start) #must add 1 day. currently not working with dates!\n",
    "        else:\n",
    "            return 'unable to provide length as period not yet finished'\n",
    "    \n",
    "    def cal_cycle_length(self):\n",
    "        '''\n",
    "        \n",
    "        This method determines the length of a completed cycle.\n",
    "        \n",
    "        '''\n",
    "        if self.cycle_complete:\n",
    "            return (self.cycle_end - self.period_start) #does this need 1 added? date tyep not yet set.\n",
    "        else:\n",
    "            return 'unable to provide length as cycle not yet finished'\n",
    "            "
   ]
  },
  {
   "cell_type": "markdown",
   "metadata": {},
   "source": [
    "### Creating instances of class\n",
    "Putting the data into cycle instances."
   ]
  },
  {
   "cell_type": "code",
   "execution_count": 55,
   "metadata": {},
   "outputs": [],
   "source": [
    "c1 = Cycle(1, 2, 4)\n",
    "c2 = Cycle(1, 2, 3)\n",
    "c3 = Cycle(1, 2)\n",
    "c4 = Cycle(1)\n",
    "\n",
    "#lst_of_cycles = [c1, c2, c3, c4]\n",
    "\n",
    "#c1 = Cycle(date(2021, 4, 7), date(2021, 4, 14), date(2021, 5, 1))\n",
    "#c2 = Cycle(date(2021, 5, 1), date(2021, 5, 12), date(2021, 6, 11))\n",
    "#c3 = Cycle(date(2021, 6, 11), date(2021, 6, 15))\n",
    "#c3 = Cycle(date(2021, 8, 21))"
   ]
  },
  {
   "cell_type": "code",
   "execution_count": 50,
   "metadata": {},
   "outputs": [],
   "source": []
  },
  {
   "cell_type": "code",
   "execution_count": null,
   "metadata": {},
   "outputs": [],
   "source": []
  },
  {
   "cell_type": "code",
   "execution_count": null,
   "metadata": {},
   "outputs": [],
   "source": []
  },
  {
   "cell_type": "code",
   "execution_count": null,
   "metadata": {},
   "outputs": [],
   "source": []
  },
  {
   "cell_type": "code",
   "execution_count": null,
   "metadata": {},
   "outputs": [],
   "source": []
  }
 ],
 "metadata": {
  "kernelspec": {
   "display_name": "Python 3",
   "language": "python",
   "name": "python3"
  },
  "language_info": {
   "codemirror_mode": {
    "name": "ipython",
    "version": 3
   },
   "file_extension": ".py",
   "mimetype": "text/x-python",
   "name": "python",
   "nbconvert_exporter": "python",
   "pygments_lexer": "ipython3",
   "version": "3.8.3"
  }
 },
 "nbformat": 4,
 "nbformat_minor": 4
}
