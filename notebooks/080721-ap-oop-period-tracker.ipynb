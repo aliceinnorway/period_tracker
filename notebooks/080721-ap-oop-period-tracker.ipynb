{
 "cells": [
  {
   "cell_type": "code",
   "execution_count": 310,
   "metadata": {},
   "outputs": [
    {
     "name": "stdout",
     "output_type": "stream",
     "text": [
      "07.07.2021\n"
     ]
    }
   ],
   "source": [
    "import datetime\n",
    "import statistics\n",
    "\n",
    "today = datetime.datetime.now()\n",
    "print(today.strftime(\"%d.%m.%Y\"))"
   ]
  },
  {
   "cell_type": "code",
   "execution_count": 341,
   "metadata": {},
   "outputs": [],
   "source": [
    "class Cycle():\n",
    "    # Variables to track averages over all cycles.\n",
    "    cycles_recorded = 0\n",
    "    lst_period_lengths = []\n",
    "    lst_cycle_lengths = []\n",
    "    \n",
    "    # Is true recorded cycle\n",
    "    recorded_cycle = True\n",
    "    \n",
    "    def __init__(self, period_start_date, period_end_date, next_period_start):\n",
    "            self.period_start_date = period_start_date\n",
    "            self.period_end_date = period_end_date\n",
    "            self.next_period_start = next_period_start\n",
    "            \n",
    "            # Calculates length of period, adding 1 to count the last day\n",
    "            self.period_length = (period_end_date - period_start_date).days + 1\n",
    "            \n",
    "            # Adds one to the cycle records. \n",
    "            Cycle.cycles_recorded += 1\n",
    "            self.id = Cycle.cycles_recorded\n",
    "            \n",
    "            # Push period length to lst_period_length.\n",
    "            Cycle.lst_period_lengths.append(self.period_length)\n",
    "            self.id = Cycle.lst_period_lengths\n",
    "            \n",
    "            # Create cycle length, remembering to add one and push to lst_cycle_lengths\n",
    "            Cycle.lst_cycle_lengths.append((self.next_period_start - self.period_start_date).days)\n",
    "        \n",
    "    def displayPeriodInfo(self):\n",
    "        '''\n",
    "            Takes instance of Cycle and displays the period start date, period end date and the length of the period. \n",
    "            \n",
    "            For example:\n",
    "            \n",
    "                Period Start Date =  2021-04-07\n",
    "                Period End Date =  2021-04-14\n",
    "                Period Length =  8 days\n",
    "        '''\n",
    "        \n",
    "        # Period start date\n",
    "        print(\"Period Start Date = \", self.period_start_date)\n",
    "\n",
    "        # Period end date\n",
    "        print(\"Period End Date = \", self.period_end_date)\n",
    "\n",
    "        # Period length\n",
    "        print(\"Period Length = \", self.period_length, \"days\")\n",
    "        \n",
    "    def createAveragePeriodLength():\n",
    "        '''\n",
    "            Takes the list of period lengths and finds the average. It rounds the average to the nearest whole number.\n",
    "        \n",
    "        '''\n",
    "        \n",
    "        AveragePeriodLength = round(statistics.mean(Cycle.lst_period_lengths))\n",
    "        print('The average period length is: ', AveragePeriodLength, 'days.')\n",
    "        \n",
    "    def createAverageCycleLength():\n",
    "        '''\n",
    "        \n",
    "            Takes the list of cycle lengths and finds the average. It rounds the average to the nearest whole number.\n",
    "        \n",
    "        '''\n",
    "        \n",
    "        AverageCycleLength = round(statistics.mean(Cycle.lst_cycle_lengths))\n",
    "        print('The average cycle length is: ', AverageCycleLength, 'days.')\n",
    "        "
   ]
  },
  {
   "cell_type": "code",
   "execution_count": 342,
   "metadata": {},
   "outputs": [],
   "source": [
    "# Data entry\n",
    "c1 = Cycle(date(2021, 4, 7), date(2021, 4, 14), date(2021, 5, 1))\n",
    "c2 = Cycle(date(2021, 5, 1), date(2021, 5, 12), date(2021, 6, 11))\n",
    "c3 = Cycle(date(2021, 6, 11), date(2021, 6, 15), date(2021, 6, 30))"
   ]
  },
  {
   "cell_type": "code",
   "execution_count": 343,
   "metadata": {},
   "outputs": [
    {
     "name": "stdout",
     "output_type": "stream",
     "text": [
      "2021-04-07\n",
      "2021-05-01\n",
      "2021-06-11\n"
     ]
    }
   ],
   "source": [
    "print(c1.period_start_date)\n",
    "print(c2.period_start_date)\n",
    "print(c3.period_start_date)"
   ]
  },
  {
   "cell_type": "code",
   "execution_count": 344,
   "metadata": {},
   "outputs": [
    {
     "name": "stdout",
     "output_type": "stream",
     "text": [
      "Period Start Date =  2021-04-07\n",
      "Period End Date =  2021-04-14\n",
      "Period Length =  8 days\n",
      "Period Start Date =  2021-05-01\n",
      "Period End Date =  2021-05-12\n",
      "Period Length =  12 days\n",
      "Period Start Date =  2021-06-11\n",
      "Period End Date =  2021-06-15\n",
      "Period Length =  5 days\n",
      "3\n"
     ]
    }
   ],
   "source": [
    "# Displaying current cycles\n",
    "c1.displayPeriodInfo()\n",
    "c2.displayPeriodInfo()\n",
    "c3.displayPeriodInfo()\n",
    "\n",
    "print(Cycle.cycles_recorded)"
   ]
  },
  {
   "cell_type": "code",
   "execution_count": 345,
   "metadata": {},
   "outputs": [
    {
     "name": "stdout",
     "output_type": "stream",
     "text": [
      "[8, 12, 5]\n",
      "[24, 41, 19]\n"
     ]
    }
   ],
   "source": [
    "print(Cycle.lst_period_lengths)\n",
    "print(Cycle.lst_cycle_lengths)"
   ]
  },
  {
   "cell_type": "code",
   "execution_count": 347,
   "metadata": {},
   "outputs": [
    {
     "name": "stdout",
     "output_type": "stream",
     "text": [
      "The average period length is:  8 days.\n",
      "The average cycle length is:  28 days.\n"
     ]
    }
   ],
   "source": [
    "Cycle.createAveragePeriodLength()\n",
    "Cycle.createAverageCycleLength()"
   ]
  },
  {
   "cell_type": "code",
   "execution_count": null,
   "metadata": {},
   "outputs": [],
   "source": [
    "# Create predictions on future cycles based on averages.\n",
    "\n",
    "class Predicted_Cycles(Cycle):\n",
    "    \n",
    "    # Is true recorded cycle\n",
    "    recorded_cycle = False"
   ]
  },
  {
   "cell_type": "code",
   "execution_count": null,
   "metadata": {},
   "outputs": [],
   "source": [
    "def create_predictions(Cycle):\n",
    "    '''\n",
    "        Creates 12 instances of Predicted_Cycles based on the averages of a recorded Cycle. \n",
    "    '''\n",
    "    # Use this as a counter to create 12 predicted cycles.  \n",
    "    cycles_predicted = 0\n",
    "    # Range counter\n",
    "    cycles_to_predict = 12\n",
    "    \n",
    "    for i in cycles_to_predict:\n",
    "        \n",
    "    "
   ]
  },
  {
   "cell_type": "code",
   "execution_count": null,
   "metadata": {},
   "outputs": [],
   "source": []
  },
  {
   "cell_type": "code",
   "execution_count": null,
   "metadata": {},
   "outputs": [],
   "source": []
  }
 ],
 "metadata": {
  "kernelspec": {
   "display_name": "Python 3",
   "language": "python",
   "name": "python3"
  },
  "language_info": {
   "codemirror_mode": {
    "name": "ipython",
    "version": 3
   },
   "file_extension": ".py",
   "mimetype": "text/x-python",
   "name": "python",
   "nbconvert_exporter": "python",
   "pygments_lexer": "ipython3",
   "version": "3.8.3"
  }
 },
 "nbformat": 4,
 "nbformat_minor": 4
}
