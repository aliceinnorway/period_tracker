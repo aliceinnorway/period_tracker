{
 "cells": [
  {
   "cell_type": "markdown",
   "metadata": {},
   "source": [
    "#### Import libraries"
   ]
  },
  {
   "cell_type": "code",
   "execution_count": 16,
   "metadata": {},
   "outputs": [],
   "source": [
    "import datetime\n",
    "from datetime import timedelta "
   ]
  },
  {
   "cell_type": "code",
   "execution_count": 17,
   "metadata": {},
   "outputs": [
    {
     "name": "stdout",
     "output_type": "stream",
     "text": [
      "07.07.2021\n"
     ]
    }
   ],
   "source": [
    "# Procedure for today's date\n",
    "\n",
    "today = datetime.datetime.now()\n",
    "print(today.strftime('%d.%m.%Y'))"
   ]
  },
  {
   "cell_type": "markdown",
   "metadata": {},
   "source": [
    "#### Define Date Variables"
   ]
  },
  {
   "cell_type": "code",
   "execution_count": 18,
   "metadata": {},
   "outputs": [
    {
     "name": "stdout",
     "output_type": "stream",
     "text": [
      "Period Start Date =  01.07.2021\n",
      "Period End Date =  07.07.2021\n",
      "Period Length =  7 days\n",
      "\n",
      "Cycle Start Date =  01.07.2021\n",
      "(Average Cycle Length =  27 days)\n",
      "Cycle End Date =  28.07.2021\n",
      "Actual Cycle Length =  27 days\n"
     ]
    }
   ],
   "source": [
    "# Procedures for inputing dates manually for example purposes using historical/fake data\n",
    "\n",
    "# Period start date, which would be same as cycle start date\n",
    "period_start_date = datetime.datetime(2021, 7, 1) # year, month, day\n",
    "print('Period Start Date = ', period_start_date.strftime('%d.%m.%Y'))\n",
    "\n",
    "# Period end date\n",
    "period_end_date = datetime.datetime(2021, 7, 7) # year, month, day\n",
    "print('Period End Date = ', period_end_date.strftime('%d.%m.%Y'))\n",
    "\n",
    "# Period length\n",
    "period_length = period_end_date - period_start_date\n",
    "print('Period Length = ', period_length.days + 1, 'days') # including period end date therefore add 1 to difference\n",
    "\n",
    "# Cycle start date\n",
    "cycle_start_date = period_start_date\n",
    "print('\\nCycle Start Date = ', period_start_date.strftime('%d.%m.%Y'))\n",
    "\n",
    "# Average cycle length to help predict next period start date if no historical data\n",
    "td = timedelta(28-1) # 28 days pincluding period start date therefore subtract 1 day from calculating the sum\n",
    "avg_cycle_length = td\n",
    "print('(Average Cycle Length = ', td.days, 'days)')\n",
    "\n",
    "# Cycle end date\n",
    "cycle_end_date = cycle_start_date + td\n",
    "print('Cycle End Date = ', cycle_end_date.strftime('%d.%m.%Y'))\n",
    "\n",
    "# Actual cycle length\n",
    "actual_cycle_length = cycle_end_date - cycle_start_date\n",
    "print('Actual Cycle Length = ', actual_cycle_length.days, 'days')"
   ]
  },
  {
   "cell_type": "markdown",
   "metadata": {},
   "source": [
    "#### User input functions"
   ]
  },
  {
   "cell_type": "code",
   "execution_count": 45,
   "metadata": {},
   "outputs": [],
   "source": [
    "def input_period_start_date():\n",
    "    is_valid = False\n",
    "    while not is_valid:\n",
    "        user_input = input('Enter period start date (dd.mm.yyyy): ')\n",
    "        try:\n",
    "            formatted_date = datetime.datetime.strptime(user_input, '%d.%m.%Y')\n",
    "            is_valid = True\n",
    "        except:\n",
    "            print('Error: re-enter a valid date in the correct format (dd.mm.yyyy).')\n",
    "    return formatted_date.strftime('%d.%m.%Y')"
   ]
  },
  {
   "cell_type": "code",
   "execution_count": 46,
   "metadata": {},
   "outputs": [
    {
     "name": "stdout",
     "output_type": "stream",
     "text": [
      "Enter period start date (dd.mm.yyyy): 01.07.2021\n"
     ]
    },
    {
     "data": {
      "text/plain": [
       "'01.07.2021'"
      ]
     },
     "execution_count": 46,
     "metadata": {},
     "output_type": "execute_result"
    }
   ],
   "source": [
    "# test function\n",
    "input_period_start_date()"
   ]
  },
  {
   "cell_type": "code",
   "execution_count": 47,
   "metadata": {},
   "outputs": [],
   "source": [
    "def input_period_end_date():\n",
    "    is_valid = False\n",
    "    while not is_valid:\n",
    "        user_input = input('Enter period end date (dd.mm.yyyy): ')\n",
    "        try:\n",
    "            formatted_date = datetime.datetime.strptime(user_input, '%d.%m.%Y')\n",
    "            is_valid = True\n",
    "        except:\n",
    "            print('Error: re-enter a valid date in the correct format (dd.mm.yyyy).')\n",
    "    return formatted_date.strftime('%d.%m.%Y')"
   ]
  },
  {
   "cell_type": "code",
   "execution_count": 50,
   "metadata": {},
   "outputs": [
    {
     "name": "stdout",
     "output_type": "stream",
     "text": [
      "Enter period end date (dd.mm.yyyy): 7.7.21\n",
      "Error: re-enter a valid date in the correct format (dd.mm.yyyy).\n",
      "Enter period end date (dd.mm.yyyy): 07.07.2021\n"
     ]
    },
    {
     "data": {
      "text/plain": [
       "'07.07.2021'"
      ]
     },
     "execution_count": 50,
     "metadata": {},
     "output_type": "execute_result"
    }
   ],
   "source": [
    "#test function\n",
    "input_period_end_date()"
   ]
  },
  {
   "cell_type": "code",
   "execution_count": null,
   "metadata": {},
   "outputs": [],
   "source": []
  }
 ],
 "metadata": {
  "kernelspec": {
   "display_name": "Python 3",
   "language": "python",
   "name": "python3"
  },
  "language_info": {
   "codemirror_mode": {
    "name": "ipython",
    "version": 3
   },
   "file_extension": ".py",
   "mimetype": "text/x-python",
   "name": "python",
   "nbconvert_exporter": "python",
   "pygments_lexer": "ipython3",
   "version": "3.8.3"
  }
 },
 "nbformat": 4,
 "nbformat_minor": 4
}
