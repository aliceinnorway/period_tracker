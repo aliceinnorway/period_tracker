{
 "cells": [
  {
   "cell_type": "markdown",
   "metadata": {},
   "source": [
    "#### Import libraries"
   ]
  },
  {
   "cell_type": "code",
   "execution_count": 1,
   "metadata": {},
   "outputs": [],
   "source": [
    "import datetime\n",
    "from datetime import timedelta "
   ]
  },
  {
   "cell_type": "code",
   "execution_count": 2,
   "metadata": {},
   "outputs": [
    {
     "name": "stdout",
     "output_type": "stream",
     "text": [
      "08.07.2021\n"
     ]
    }
   ],
   "source": [
    "# Procedure for today's date\n",
    "today = datetime.datetime.now()\n",
    "print(today.strftime('%d.%m.%Y'))"
   ]
  },
  {
   "cell_type": "markdown",
   "metadata": {},
   "source": [
    "#### Define Date Variables"
   ]
  },
  {
   "cell_type": "code",
   "execution_count": 9,
   "metadata": {},
   "outputs": [
    {
     "name": "stdout",
     "output_type": "stream",
     "text": [
      "Period Start Date =  01.07.2021\n",
      "Period End Date =  07.07.2021\n",
      "Period Length =  7 days\n",
      "\n",
      "Cycle Start Date =  01.07.2021\n",
      "(Average Cycle Length =  28 days)\n",
      "Cycle End Date =  28.07.2021\n",
      "Actual Cycle Length =  28 days\n"
     ]
    }
   ],
   "source": [
    "# Procedures for inputing dates manually for example purposes using historical/fake data\n",
    "\n",
    "# Period start date, which would be same as cycle start date\n",
    "period_start_date = datetime.datetime(2021, 7, 1) # year, month, day\n",
    "print('Period Start Date = ', period_start_date.strftime('%d.%m.%Y'))\n",
    "\n",
    "# Period end date\n",
    "period_end_date = datetime.datetime(2021, 7, 7) # year, month, day\n",
    "print('Period End Date = ', period_end_date.strftime('%d.%m.%Y'))\n",
    "\n",
    "# Period length\n",
    "period_length = period_end_date - period_start_date\n",
    "print('Period Length = ', period_length.days + 1, 'days') # including period end date therefore add 1 to difference\n",
    "\n",
    "# Cycle start date\n",
    "cycle_start_date = period_start_date\n",
    "print('\\nCycle Start Date = ', period_start_date.strftime('%d.%m.%Y'))\n",
    "\n",
    "# Average cycle length to help predict next period start date if no historical data\n",
    "td = timedelta(28) \n",
    "avg_cycle_length = td\n",
    "print('(Average Cycle Length = ', td.days, 'days)')\n",
    "\n",
    "# Cycle end date\n",
    "cycle_end_date = cycle_start_date + td - timedelta(days = 1) # subtract a day to account for cycle start date as 1 day\n",
    "print('Cycle End Date = ', cycle_end_date.strftime('%d.%m.%Y'))\n",
    "\n",
    "# Actual cycle length\n",
    "actual_cycle_length = cycle_end_date - cycle_start_date + timedelta(days = 1) # add a day to account for cycle end date as 1 day\n",
    "print('Actual Cycle Length = ', actual_cycle_length.days, 'days')"
   ]
  },
  {
   "cell_type": "markdown",
   "metadata": {},
   "source": [
    "#### User input functions"
   ]
  },
  {
   "cell_type": "code",
   "execution_count": 10,
   "metadata": {},
   "outputs": [],
   "source": [
    "def input_period_start_date():\n",
    "    '''\n",
    "        Prompts user to input period start date in the correct format\n",
    "    '''\n",
    "    \n",
    "    is_valid = False\n",
    "    while not is_valid:\n",
    "        user_input = input('Enter period start date (dd.mm.yyyy): ')\n",
    "        try:\n",
    "            formatted_date = datetime.datetime.strptime(user_input, '%d.%m.%Y')\n",
    "            is_valid = True\n",
    "        except:\n",
    "            print('Error: re-enter a valid date in the correct format (dd.mm.yyyy).')\n",
    "    return formatted_date.strftime('%d.%m.%Y')"
   ]
  },
  {
   "cell_type": "code",
   "execution_count": 11,
   "metadata": {},
   "outputs": [
    {
     "name": "stdout",
     "output_type": "stream",
     "text": [
      "Enter period start date (dd.mm.yyyy): 01.07.2021\n"
     ]
    },
    {
     "data": {
      "text/plain": [
       "'01.07.2021'"
      ]
     },
     "execution_count": 11,
     "metadata": {},
     "output_type": "execute_result"
    }
   ],
   "source": [
    "# test function\n",
    "input_period_start_date()"
   ]
  },
  {
   "cell_type": "code",
   "execution_count": 12,
   "metadata": {},
   "outputs": [],
   "source": [
    "def input_period_end_date():\n",
    "    '''\n",
    "        Prompts user to input period end date in the correct format\n",
    "    '''\n",
    "    \n",
    "    is_valid = False\n",
    "    while not is_valid:\n",
    "        user_input = input('Enter period end date (dd.mm.yyyy): ')\n",
    "        try:\n",
    "            formatted_date = datetime.datetime.strptime(user_input, '%d.%m.%Y')\n",
    "            is_valid = True\n",
    "        except:\n",
    "            print('Error: re-enter a valid date in the correct format (dd.mm.yyyy).')\n",
    "    return formatted_date.strftime('%d.%m.%Y')"
   ]
  },
  {
   "cell_type": "code",
   "execution_count": 13,
   "metadata": {},
   "outputs": [
    {
     "name": "stdout",
     "output_type": "stream",
     "text": [
      "Enter period end date (dd.mm.yyyy): 07.07.2021\n"
     ]
    },
    {
     "data": {
      "text/plain": [
       "'07.07.2021'"
      ]
     },
     "execution_count": 13,
     "metadata": {},
     "output_type": "execute_result"
    }
   ],
   "source": [
    "# test function\n",
    "input_period_end_date()"
   ]
  },
  {
   "cell_type": "code",
   "execution_count": 14,
   "metadata": {},
   "outputs": [],
   "source": [
    "def cycle_data_entry():\n",
    "    '''\n",
    "        Prompts user to input period start date, period end date, and next period start date,\n",
    "        which are sorted into a list representing an instance of a cycle\n",
    "    '''\n",
    "    start_date = input_period_start_date()\n",
    "    end_date = input_period_end_date()\n",
    "    next_start_date = input_period_start_date()\n",
    "    cycle_instance = [start_date, end_date, next_start_date]\n",
    "    return(cycle_instance)"
   ]
  },
  {
   "cell_type": "code",
   "execution_count": 16,
   "metadata": {},
   "outputs": [
    {
     "name": "stdout",
     "output_type": "stream",
     "text": [
      "Enter period start date (dd.mm.yyyy): 01.07.2021\n",
      "Enter period end date (dd.mm.yyyy): 07.07.2021\n",
      "Enter period start date (dd.mm.yyyy): 29.07.2021\n",
      "\n",
      "c1 =  ['01.07.2021', '07.07.2021', '29.07.2021']\n"
     ]
    }
   ],
   "source": [
    "# test function\n",
    "cycle_instance = cycle_data_entry()\n",
    "cycle_instance\n",
    "print('\\nc1 = ', cycle_instance)"
   ]
  },
  {
   "cell_type": "code",
   "execution_count": null,
   "metadata": {},
   "outputs": [],
   "source": []
  }
 ],
 "metadata": {
  "kernelspec": {
   "display_name": "Python 3",
   "language": "python",
   "name": "python3"
  },
  "language_info": {
   "codemirror_mode": {
    "name": "ipython",
    "version": 3
   },
   "file_extension": ".py",
   "mimetype": "text/x-python",
   "name": "python",
   "nbconvert_exporter": "python",
   "pygments_lexer": "ipython3",
   "version": "3.8.3"
  }
 },
 "nbformat": 4,
 "nbformat_minor": 4
}
